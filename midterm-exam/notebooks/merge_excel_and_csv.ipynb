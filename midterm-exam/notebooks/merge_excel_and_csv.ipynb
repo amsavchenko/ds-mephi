{
 "cells": [
  {
   "cell_type": "code",
   "execution_count": 88,
   "metadata": {},
   "outputs": [],
   "source": [
    "import json\n",
    "import pickle\n",
    "\n",
    "from matplotlib import pyplot as plt\n",
    "import numpy as np\n",
    "import pandas as pd\n",
    "import seaborn as sns\n",
    "from tqdm import tqdm\n",
    "import warnings\n",
    "\n",
    "%matplotlib inline\n",
    "warnings.filterwarnings('ignore')"
   ]
  },
  {
   "cell_type": "markdown",
   "metadata": {},
   "source": [
    "# Loading"
   ]
  },
  {
   "cell_type": "code",
   "execution_count": 3,
   "metadata": {},
   "outputs": [],
   "source": [
    "with open('../utility_dataframes/new_names.pkl', 'rb') as file:\n",
    "    new_names = pickle.load(file)"
   ]
  },
  {
   "cell_type": "code",
   "execution_count": 55,
   "metadata": {},
   "outputs": [],
   "source": [
    "excel_df = pd.read_csv('../ready_dataframes/excel_df_correct_names.csv', index_col=0)"
   ]
  },
  {
   "cell_type": "code",
   "execution_count": 56,
   "metadata": {},
   "outputs": [],
   "source": [
    "csv_df = pd.read_csv('../ready_dataframes/boarding_data_processed.csv', index_col=0)"
   ]
  },
  {
   "cell_type": "code",
   "execution_count": 57,
   "metadata": {},
   "outputs": [],
   "source": [
    "excel_df['Name'] = excel_df['FirstName'] + ' ' + excel_df['LastName']\n",
    "csv_df['Name'] = csv_df['FirstName'] + ' ' + csv_df['LastName']"
   ]
  },
  {
   "cell_type": "code",
   "execution_count": 14,
   "metadata": {},
   "outputs": [
    {
     "name": "stderr",
     "output_type": "stream",
     "text": [
      "100%|██████████| 155147/155147 [00:01<00:00, 115045.15it/s]\n"
     ]
    }
   ],
   "source": [
    "unique_excel_names = set(excel_df['Name'])\n",
    "new_names = []\n",
    "\n",
    "for i in tqdm(range(csv_df.shape[0])):\n",
    "    if csv_df.iloc[i, 14] not in unique_excel_names:\n",
    "        new_names.append(i)"
   ]
  },
  {
   "cell_type": "markdown",
   "metadata": {},
   "source": [
    "# Add lack columns"
   ]
  },
  {
   "cell_type": "code",
   "execution_count": 58,
   "metadata": {},
   "outputs": [],
   "source": [
    "excel_df['BirthDate'] = np.nan\n",
    "excel_df['Document'] = np.nan\n",
    "excel_df['BonusProgrammNumber'] = np.nan"
   ]
  },
  {
   "cell_type": "code",
   "execution_count": 59,
   "metadata": {},
   "outputs": [],
   "source": [
    "csv_df['DepartureCountry'] = np.nan\n",
    "csv_df['DepartureCity'] = np.nan\n",
    "csv_df['ArrivalCountry'] = np.nan\n",
    "csv_df['AirlineName'] = np.nan\n",
    "csv_df['LoyaltyStatus'] = np.nan\n",
    "csv_df['BonusProgrammNumber'] = np.nan"
   ]
  },
  {
   "cell_type": "markdown",
   "metadata": {},
   "source": [
    "# Deal with missing data in csv"
   ]
  },
  {
   "cell_type": "markdown",
   "metadata": {},
   "source": [
    "## Departure & Arrival Airports"
   ]
  },
  {
   "cell_type": "code",
   "execution_count": 60,
   "metadata": {},
   "outputs": [],
   "source": [
    "fly_root = pd.read_csv('../utility_dataframes/fly_root.csv', names=['Date', 'Number', 'Departure', 'Arrival', 'Status'])"
   ]
  },
  {
   "cell_type": "code",
   "execution_count": 89,
   "metadata": {},
   "outputs": [
    {
     "data": {
      "text/html": [
       "<div>\n",
       "<style scoped>\n",
       "    .dataframe tbody tr th:only-of-type {\n",
       "        vertical-align: middle;\n",
       "    }\n",
       "\n",
       "    .dataframe tbody tr th {\n",
       "        vertical-align: top;\n",
       "    }\n",
       "\n",
       "    .dataframe thead th {\n",
       "        text-align: right;\n",
       "    }\n",
       "</style>\n",
       "<table border=\"1\" class=\"dataframe\">\n",
       "  <thead>\n",
       "    <tr style=\"text-align: right;\">\n",
       "      <th></th>\n",
       "      <th>Departure</th>\n",
       "      <th>Arrival</th>\n",
       "    </tr>\n",
       "    <tr>\n",
       "      <th>Number</th>\n",
       "      <th></th>\n",
       "      <th></th>\n",
       "    </tr>\n",
       "  </thead>\n",
       "  <tbody>\n",
       "    <tr>\n",
       "      <td>AF10</td>\n",
       "      <td>CDG</td>\n",
       "      <td>JFK</td>\n",
       "    </tr>\n",
       "    <tr>\n",
       "      <td>AF1000</td>\n",
       "      <td>CDG</td>\n",
       "      <td>MAD</td>\n",
       "    </tr>\n",
       "    <tr>\n",
       "      <td>AF1001</td>\n",
       "      <td>MAD</td>\n",
       "      <td>CDG</td>\n",
       "    </tr>\n",
       "    <tr>\n",
       "      <td>AF1004</td>\n",
       "      <td>CDG</td>\n",
       "      <td>FCO</td>\n",
       "    </tr>\n",
       "    <tr>\n",
       "      <td>AF1005</td>\n",
       "      <td>FCO</td>\n",
       "      <td>FCO</td>\n",
       "    </tr>\n",
       "    <tr>\n",
       "      <td>...</td>\n",
       "      <td>...</td>\n",
       "      <td>...</td>\n",
       "    </tr>\n",
       "    <tr>\n",
       "      <td>VN931</td>\n",
       "      <td>LPQ</td>\n",
       "      <td>REP</td>\n",
       "    </tr>\n",
       "    <tr>\n",
       "      <td>VN942</td>\n",
       "      <td>RGN</td>\n",
       "      <td>SGN</td>\n",
       "    </tr>\n",
       "    <tr>\n",
       "      <td>VN943</td>\n",
       "      <td>SGN</td>\n",
       "      <td>RGN</td>\n",
       "    </tr>\n",
       "    <tr>\n",
       "      <td>VN956</td>\n",
       "      <td>RGN</td>\n",
       "      <td>HAN</td>\n",
       "    </tr>\n",
       "    <tr>\n",
       "      <td>VN957</td>\n",
       "      <td>HAN</td>\n",
       "      <td>RGN</td>\n",
       "    </tr>\n",
       "  </tbody>\n",
       "</table>\n",
       "<p>24005 rows × 2 columns</p>\n",
       "</div>"
      ],
      "text/plain": [
       "       Departure Arrival\n",
       "Number                  \n",
       "AF10         CDG     JFK\n",
       "AF1000       CDG     MAD\n",
       "AF1001       MAD     CDG\n",
       "AF1004       CDG     FCO\n",
       "AF1005       FCO     FCO\n",
       "...          ...     ...\n",
       "VN931        LPQ     REP\n",
       "VN942        RGN     SGN\n",
       "VN943        SGN     RGN\n",
       "VN956        RGN     HAN\n",
       "VN957        HAN     RGN\n",
       "\n",
       "[24005 rows x 2 columns]"
      ]
     },
     "execution_count": 89,
     "metadata": {},
     "output_type": "execute_result"
    }
   ],
   "source": [
    "fly_root"
   ]
  },
  {
   "cell_type": "code",
   "execution_count": 61,
   "metadata": {},
   "outputs": [],
   "source": [
    "fly_root = fly_root.groupby(\"Number\")['Departure', 'Arrival'].max()"
   ]
  },
  {
   "cell_type": "code",
   "execution_count": 62,
   "metadata": {},
   "outputs": [],
   "source": [
    "def extract_departure_arrival_airport(number):\n",
    "    return tuple(fly_root.loc[number])"
   ]
  },
  {
   "cell_type": "code",
   "execution_count": 63,
   "metadata": {},
   "outputs": [],
   "source": [
    "csv_df['DepartureAirport'], csv_df['ArrivalAirport'] = \\\n",
    "zip(*csv_df['FlightNumber'].map(extract_departure_arrival_airport))"
   ]
  },
  {
   "cell_type": "markdown",
   "metadata": {},
   "source": [
    "## Departure & Arrival Locations"
   ]
  },
  {
   "cell_type": "code",
   "execution_count": 11,
   "metadata": {},
   "outputs": [],
   "source": [
    "airports_df = pd.read_csv('../utility_dataframes/airports_df.csv', index_col=0)"
   ]
  },
  {
   "cell_type": "code",
   "execution_count": 12,
   "metadata": {},
   "outputs": [
    {
     "data": {
      "text/html": [
       "<div>\n",
       "<style scoped>\n",
       "    .dataframe tbody tr th:only-of-type {\n",
       "        vertical-align: middle;\n",
       "    }\n",
       "\n",
       "    .dataframe tbody tr th {\n",
       "        vertical-align: top;\n",
       "    }\n",
       "\n",
       "    .dataframe thead th {\n",
       "        text-align: right;\n",
       "    }\n",
       "</style>\n",
       "<table border=\"1\" class=\"dataframe\">\n",
       "  <thead>\n",
       "    <tr style=\"text-align: right;\">\n",
       "      <th></th>\n",
       "      <th>city</th>\n",
       "      <th>country</th>\n",
       "    </tr>\n",
       "    <tr>\n",
       "      <th>code</th>\n",
       "      <th></th>\n",
       "      <th></th>\n",
       "    </tr>\n",
       "  </thead>\n",
       "  <tbody>\n",
       "    <tr>\n",
       "      <td>AAA</td>\n",
       "      <td>Anaa</td>\n",
       "      <td>French Polynesia</td>\n",
       "    </tr>\n",
       "    <tr>\n",
       "      <td>AAE</td>\n",
       "      <td>El Tarf</td>\n",
       "      <td>Algeria</td>\n",
       "    </tr>\n",
       "    <tr>\n",
       "      <td>AAL</td>\n",
       "      <td>Norresundby</td>\n",
       "      <td>Denmark</td>\n",
       "    </tr>\n",
       "    <tr>\n",
       "      <td>AAM</td>\n",
       "      <td>Mala Mala</td>\n",
       "      <td>South Africa</td>\n",
       "    </tr>\n",
       "    <tr>\n",
       "      <td>AAN</td>\n",
       "      <td>Ayn al Faydah</td>\n",
       "      <td>United Arab Emirates</td>\n",
       "    </tr>\n",
       "    <tr>\n",
       "      <td>...</td>\n",
       "      <td>...</td>\n",
       "      <td>...</td>\n",
       "    </tr>\n",
       "    <tr>\n",
       "      <td>YZY</td>\n",
       "      <td>Zhangye</td>\n",
       "      <td>China</td>\n",
       "    </tr>\n",
       "    <tr>\n",
       "      <td>YUS</td>\n",
       "      <td>Yushu</td>\n",
       "      <td>China</td>\n",
       "    </tr>\n",
       "    <tr>\n",
       "      <td>BPE</td>\n",
       "      <td>Bagan</td>\n",
       "      <td>Burma</td>\n",
       "    </tr>\n",
       "    <tr>\n",
       "      <td>THD</td>\n",
       "      <td>Sao Vang</td>\n",
       "      <td>Vietnam</td>\n",
       "    </tr>\n",
       "    <tr>\n",
       "      <td>AOG</td>\n",
       "      <td>Anshan</td>\n",
       "      <td>China</td>\n",
       "    </tr>\n",
       "  </tbody>\n",
       "</table>\n",
       "<p>3911 rows × 2 columns</p>\n",
       "</div>"
      ],
      "text/plain": [
       "               city               country\n",
       "code                                     \n",
       "AAA            Anaa      French Polynesia\n",
       "AAE         El Tarf               Algeria\n",
       "AAL     Norresundby               Denmark\n",
       "AAM       Mala Mala          South Africa\n",
       "AAN   Ayn al Faydah  United Arab Emirates\n",
       "...             ...                   ...\n",
       "YZY         Zhangye                 China\n",
       "YUS           Yushu                 China\n",
       "BPE           Bagan                 Burma\n",
       "THD        Sao Vang               Vietnam\n",
       "AOG          Anshan                 China\n",
       "\n",
       "[3911 rows x 2 columns]"
      ]
     },
     "execution_count": 12,
     "metadata": {},
     "output_type": "execute_result"
    }
   ],
   "source": [
    "airports_df.set_index('code', inplace=True)\n",
    "airports_df"
   ]
  },
  {
   "cell_type": "code",
   "execution_count": 90,
   "metadata": {},
   "outputs": [
    {
     "data": {
      "text/html": [
       "<div>\n",
       "<style scoped>\n",
       "    .dataframe tbody tr th:only-of-type {\n",
       "        vertical-align: middle;\n",
       "    }\n",
       "\n",
       "    .dataframe tbody tr th {\n",
       "        vertical-align: top;\n",
       "    }\n",
       "\n",
       "    .dataframe thead th {\n",
       "        text-align: right;\n",
       "    }\n",
       "</style>\n",
       "<table border=\"1\" class=\"dataframe\">\n",
       "  <thead>\n",
       "    <tr style=\"text-align: right;\">\n",
       "      <th></th>\n",
       "      <th>city</th>\n",
       "      <th>country</th>\n",
       "    </tr>\n",
       "    <tr>\n",
       "      <th>code</th>\n",
       "      <th></th>\n",
       "      <th></th>\n",
       "    </tr>\n",
       "  </thead>\n",
       "  <tbody>\n",
       "    <tr>\n",
       "      <td>AAE</td>\n",
       "      <td>El Tarf</td>\n",
       "      <td>Algeria</td>\n",
       "    </tr>\n",
       "    <tr>\n",
       "      <td>AAL</td>\n",
       "      <td>Norresundby</td>\n",
       "      <td>Denmark</td>\n",
       "    </tr>\n",
       "    <tr>\n",
       "      <td>AAM</td>\n",
       "      <td>Mala Mala</td>\n",
       "      <td>South Africa</td>\n",
       "    </tr>\n",
       "    <tr>\n",
       "      <td>AAN</td>\n",
       "      <td>Ayn al Faydah</td>\n",
       "      <td>United Arab Emirates</td>\n",
       "    </tr>\n",
       "    <tr>\n",
       "      <td>AAQ</td>\n",
       "      <td>Novorossiysk</td>\n",
       "      <td>Russia</td>\n",
       "    </tr>\n",
       "    <tr>\n",
       "      <td>...</td>\n",
       "      <td>...</td>\n",
       "      <td>...</td>\n",
       "    </tr>\n",
       "    <tr>\n",
       "      <td>YZY</td>\n",
       "      <td>Zhangye</td>\n",
       "      <td>China</td>\n",
       "    </tr>\n",
       "    <tr>\n",
       "      <td>YUS</td>\n",
       "      <td>Yushu</td>\n",
       "      <td>China</td>\n",
       "    </tr>\n",
       "    <tr>\n",
       "      <td>BPE</td>\n",
       "      <td>Bagan</td>\n",
       "      <td>Burma</td>\n",
       "    </tr>\n",
       "    <tr>\n",
       "      <td>THD</td>\n",
       "      <td>Sao Vang</td>\n",
       "      <td>Vietnam</td>\n",
       "    </tr>\n",
       "    <tr>\n",
       "      <td>AOG</td>\n",
       "      <td>Anshan</td>\n",
       "      <td>China</td>\n",
       "    </tr>\n",
       "  </tbody>\n",
       "</table>\n",
       "<p>3910 rows × 2 columns</p>\n",
       "</div>"
      ],
      "text/plain": [
       "               city               country\n",
       "code                                     \n",
       "AAE         El Tarf               Algeria\n",
       "AAL     Norresundby               Denmark\n",
       "AAM       Mala Mala          South Africa\n",
       "AAN   Ayn al Faydah  United Arab Emirates\n",
       "AAQ    Novorossiysk                Russia\n",
       "...             ...                   ...\n",
       "YZY         Zhangye                 China\n",
       "YUS           Yushu                 China\n",
       "BPE           Bagan                 Burma\n",
       "THD        Sao Vang               Vietnam\n",
       "AOG          Anshan                 China\n",
       "\n",
       "[3910 rows x 2 columns]"
      ]
     },
     "execution_count": 90,
     "metadata": {},
     "output_type": "execute_result"
    }
   ],
   "source": [
    "airports_df.drop('AAA')"
   ]
  },
  {
   "cell_type": "code",
   "execution_count": 13,
   "metadata": {},
   "outputs": [],
   "source": [
    "def extract_city_country(code):\n",
    "    return tuple(airports_df.loc[code])"
   ]
  },
  {
   "cell_type": "code",
   "execution_count": 64,
   "metadata": {
    "collapsed": true
   },
   "outputs": [
    {
     "ename": "KeyboardInterrupt",
     "evalue": "",
     "output_type": "error",
     "traceback": [
      "\u001b[0;31m---------------------------------------------------------------------------\u001b[0m",
      "\u001b[0;31mKeyboardInterrupt\u001b[0m                         Traceback (most recent call last)",
      "\u001b[0;32m<ipython-input-64-d47e608818fe>\u001b[0m in \u001b[0;36m<module>\u001b[0;34m()\u001b[0m\n\u001b[0;32m----> 1\u001b[0;31m \u001b[0mcsv_df\u001b[0m\u001b[0;34m[\u001b[0m\u001b[0;34m'DepartureCity'\u001b[0m\u001b[0;34m]\u001b[0m\u001b[0;34m,\u001b[0m \u001b[0mcsv_df\u001b[0m\u001b[0;34m[\u001b[0m\u001b[0;34m'DepartureCountry'\u001b[0m\u001b[0;34m]\u001b[0m \u001b[0;34m=\u001b[0m \u001b[0mzip\u001b[0m\u001b[0;34m(\u001b[0m\u001b[0;34m*\u001b[0m\u001b[0mcsv_df\u001b[0m\u001b[0;34m[\u001b[0m\u001b[0;34m'DepartureAirport'\u001b[0m\u001b[0;34m]\u001b[0m\u001b[0;34m.\u001b[0m\u001b[0mmap\u001b[0m\u001b[0;34m(\u001b[0m\u001b[0mextract_city_country\u001b[0m\u001b[0;34m)\u001b[0m\u001b[0;34m)\u001b[0m\u001b[0;34m\u001b[0m\u001b[0;34m\u001b[0m\u001b[0m\n\u001b[0m",
      "\u001b[0;32m~/anaconda3/lib/python3.6/site-packages/pandas/core/series.py\u001b[0m in \u001b[0;36mmap\u001b[0;34m(self, arg, na_action)\u001b[0m\n\u001b[1;32m   3823\u001b[0m         \u001b[0mdtype\u001b[0m\u001b[0;34m:\u001b[0m \u001b[0mobject\u001b[0m\u001b[0;34m\u001b[0m\u001b[0;34m\u001b[0m\u001b[0m\n\u001b[1;32m   3824\u001b[0m         \"\"\"\n\u001b[0;32m-> 3825\u001b[0;31m         \u001b[0mnew_values\u001b[0m \u001b[0;34m=\u001b[0m \u001b[0msuper\u001b[0m\u001b[0;34m(\u001b[0m\u001b[0;34m)\u001b[0m\u001b[0;34m.\u001b[0m\u001b[0m_map_values\u001b[0m\u001b[0;34m(\u001b[0m\u001b[0marg\u001b[0m\u001b[0;34m,\u001b[0m \u001b[0mna_action\u001b[0m\u001b[0;34m=\u001b[0m\u001b[0mna_action\u001b[0m\u001b[0;34m)\u001b[0m\u001b[0;34m\u001b[0m\u001b[0;34m\u001b[0m\u001b[0m\n\u001b[0m\u001b[1;32m   3826\u001b[0m         \u001b[0;32mreturn\u001b[0m \u001b[0mself\u001b[0m\u001b[0;34m.\u001b[0m\u001b[0m_constructor\u001b[0m\u001b[0;34m(\u001b[0m\u001b[0mnew_values\u001b[0m\u001b[0;34m,\u001b[0m \u001b[0mindex\u001b[0m\u001b[0;34m=\u001b[0m\u001b[0mself\u001b[0m\u001b[0;34m.\u001b[0m\u001b[0mindex\u001b[0m\u001b[0;34m)\u001b[0m\u001b[0;34m.\u001b[0m\u001b[0m__finalize__\u001b[0m\u001b[0;34m(\u001b[0m\u001b[0mself\u001b[0m\u001b[0;34m)\u001b[0m\u001b[0;34m\u001b[0m\u001b[0;34m\u001b[0m\u001b[0m\n\u001b[1;32m   3827\u001b[0m \u001b[0;34m\u001b[0m\u001b[0m\n",
      "\u001b[0;32m~/anaconda3/lib/python3.6/site-packages/pandas/core/base.py\u001b[0m in \u001b[0;36m_map_values\u001b[0;34m(self, mapper, na_action)\u001b[0m\n\u001b[1;32m   1298\u001b[0m \u001b[0;34m\u001b[0m\u001b[0m\n\u001b[1;32m   1299\u001b[0m         \u001b[0;31m# mapper is a function\u001b[0m\u001b[0;34m\u001b[0m\u001b[0;34m\u001b[0m\u001b[0;34m\u001b[0m\u001b[0m\n\u001b[0;32m-> 1300\u001b[0;31m         \u001b[0mnew_values\u001b[0m \u001b[0;34m=\u001b[0m \u001b[0mmap_f\u001b[0m\u001b[0;34m(\u001b[0m\u001b[0mvalues\u001b[0m\u001b[0;34m,\u001b[0m \u001b[0mmapper\u001b[0m\u001b[0;34m)\u001b[0m\u001b[0;34m\u001b[0m\u001b[0;34m\u001b[0m\u001b[0m\n\u001b[0m\u001b[1;32m   1301\u001b[0m \u001b[0;34m\u001b[0m\u001b[0m\n\u001b[1;32m   1302\u001b[0m         \u001b[0;32mreturn\u001b[0m \u001b[0mnew_values\u001b[0m\u001b[0;34m\u001b[0m\u001b[0;34m\u001b[0m\u001b[0m\n",
      "\u001b[0;32mpandas/_libs/lib.pyx\u001b[0m in \u001b[0;36mpandas._libs.lib.map_infer\u001b[0;34m()\u001b[0m\n",
      "\u001b[0;32m<ipython-input-13-3e66441bf877>\u001b[0m in \u001b[0;36mextract_city_country\u001b[0;34m(code)\u001b[0m\n\u001b[1;32m      1\u001b[0m \u001b[0;32mdef\u001b[0m \u001b[0mextract_city_country\u001b[0m\u001b[0;34m(\u001b[0m\u001b[0mcode\u001b[0m\u001b[0;34m)\u001b[0m\u001b[0;34m:\u001b[0m\u001b[0;34m\u001b[0m\u001b[0;34m\u001b[0m\u001b[0m\n\u001b[0;32m----> 2\u001b[0;31m     \u001b[0;32mreturn\u001b[0m \u001b[0mtuple\u001b[0m\u001b[0;34m(\u001b[0m\u001b[0mairports_df\u001b[0m\u001b[0;34m.\u001b[0m\u001b[0mloc\u001b[0m\u001b[0;34m[\u001b[0m\u001b[0mcode\u001b[0m\u001b[0;34m]\u001b[0m\u001b[0;34m)\u001b[0m\u001b[0;34m\u001b[0m\u001b[0;34m\u001b[0m\u001b[0m\n\u001b[0m",
      "\u001b[0;32m~/anaconda3/lib/python3.6/site-packages/pandas/core/indexing.py\u001b[0m in \u001b[0;36m__getitem__\u001b[0;34m(self, key)\u001b[0m\n\u001b[1;32m   1422\u001b[0m \u001b[0;34m\u001b[0m\u001b[0m\n\u001b[1;32m   1423\u001b[0m             \u001b[0mmaybe_callable\u001b[0m \u001b[0;34m=\u001b[0m \u001b[0mcom\u001b[0m\u001b[0;34m.\u001b[0m\u001b[0mapply_if_callable\u001b[0m\u001b[0;34m(\u001b[0m\u001b[0mkey\u001b[0m\u001b[0;34m,\u001b[0m \u001b[0mself\u001b[0m\u001b[0;34m.\u001b[0m\u001b[0mobj\u001b[0m\u001b[0;34m)\u001b[0m\u001b[0;34m\u001b[0m\u001b[0;34m\u001b[0m\u001b[0m\n\u001b[0;32m-> 1424\u001b[0;31m             \u001b[0;32mreturn\u001b[0m \u001b[0mself\u001b[0m\u001b[0;34m.\u001b[0m\u001b[0m_getitem_axis\u001b[0m\u001b[0;34m(\u001b[0m\u001b[0mmaybe_callable\u001b[0m\u001b[0;34m,\u001b[0m \u001b[0maxis\u001b[0m\u001b[0;34m=\u001b[0m\u001b[0maxis\u001b[0m\u001b[0;34m)\u001b[0m\u001b[0;34m\u001b[0m\u001b[0;34m\u001b[0m\u001b[0m\n\u001b[0m\u001b[1;32m   1425\u001b[0m \u001b[0;34m\u001b[0m\u001b[0m\n\u001b[1;32m   1426\u001b[0m     \u001b[0;32mdef\u001b[0m \u001b[0m_is_scalar_access\u001b[0m\u001b[0;34m(\u001b[0m\u001b[0mself\u001b[0m\u001b[0;34m,\u001b[0m \u001b[0mkey\u001b[0m\u001b[0;34m:\u001b[0m \u001b[0mTuple\u001b[0m\u001b[0;34m)\u001b[0m\u001b[0;34m:\u001b[0m\u001b[0;34m\u001b[0m\u001b[0;34m\u001b[0m\u001b[0m\n",
      "\u001b[0;32m~/anaconda3/lib/python3.6/site-packages/pandas/core/indexing.py\u001b[0m in \u001b[0;36m_getitem_axis\u001b[0;34m(self, key, axis)\u001b[0m\n\u001b[1;32m   1848\u001b[0m         \u001b[0;31m# fall thru to straight lookup\u001b[0m\u001b[0;34m\u001b[0m\u001b[0;34m\u001b[0m\u001b[0;34m\u001b[0m\u001b[0m\n\u001b[1;32m   1849\u001b[0m         \u001b[0mself\u001b[0m\u001b[0;34m.\u001b[0m\u001b[0m_validate_key\u001b[0m\u001b[0;34m(\u001b[0m\u001b[0mkey\u001b[0m\u001b[0;34m,\u001b[0m \u001b[0maxis\u001b[0m\u001b[0;34m)\u001b[0m\u001b[0;34m\u001b[0m\u001b[0;34m\u001b[0m\u001b[0m\n\u001b[0;32m-> 1850\u001b[0;31m         \u001b[0;32mreturn\u001b[0m \u001b[0mself\u001b[0m\u001b[0;34m.\u001b[0m\u001b[0m_get_label\u001b[0m\u001b[0;34m(\u001b[0m\u001b[0mkey\u001b[0m\u001b[0;34m,\u001b[0m \u001b[0maxis\u001b[0m\u001b[0;34m=\u001b[0m\u001b[0maxis\u001b[0m\u001b[0;34m)\u001b[0m\u001b[0;34m\u001b[0m\u001b[0;34m\u001b[0m\u001b[0m\n\u001b[0m\u001b[1;32m   1851\u001b[0m \u001b[0;34m\u001b[0m\u001b[0m\n\u001b[1;32m   1852\u001b[0m \u001b[0;34m\u001b[0m\u001b[0m\n",
      "\u001b[0;32m~/anaconda3/lib/python3.6/site-packages/pandas/core/indexing.py\u001b[0m in \u001b[0;36m_get_label\u001b[0;34m(self, label, axis)\u001b[0m\n\u001b[1;32m    158\u001b[0m             \u001b[0;32mraise\u001b[0m \u001b[0mIndexingError\u001b[0m\u001b[0;34m(\u001b[0m\u001b[0;34m\"no slices here, handle elsewhere\"\u001b[0m\u001b[0;34m)\u001b[0m\u001b[0;34m\u001b[0m\u001b[0;34m\u001b[0m\u001b[0m\n\u001b[1;32m    159\u001b[0m \u001b[0;34m\u001b[0m\u001b[0m\n\u001b[0;32m--> 160\u001b[0;31m         \u001b[0;32mreturn\u001b[0m \u001b[0mself\u001b[0m\u001b[0;34m.\u001b[0m\u001b[0mobj\u001b[0m\u001b[0;34m.\u001b[0m\u001b[0m_xs\u001b[0m\u001b[0;34m(\u001b[0m\u001b[0mlabel\u001b[0m\u001b[0;34m,\u001b[0m \u001b[0maxis\u001b[0m\u001b[0;34m=\u001b[0m\u001b[0maxis\u001b[0m\u001b[0;34m)\u001b[0m\u001b[0;34m\u001b[0m\u001b[0;34m\u001b[0m\u001b[0m\n\u001b[0m\u001b[1;32m    161\u001b[0m \u001b[0;34m\u001b[0m\u001b[0m\n\u001b[1;32m    162\u001b[0m     \u001b[0;32mdef\u001b[0m \u001b[0m_get_loc\u001b[0m\u001b[0;34m(\u001b[0m\u001b[0mself\u001b[0m\u001b[0;34m,\u001b[0m \u001b[0mkey\u001b[0m\u001b[0;34m:\u001b[0m \u001b[0mint\u001b[0m\u001b[0;34m,\u001b[0m \u001b[0maxis\u001b[0m\u001b[0;34m:\u001b[0m \u001b[0mint\u001b[0m\u001b[0;34m)\u001b[0m\u001b[0;34m:\u001b[0m\u001b[0;34m\u001b[0m\u001b[0;34m\u001b[0m\u001b[0m\n",
      "\u001b[0;32m~/anaconda3/lib/python3.6/site-packages/pandas/core/generic.py\u001b[0m in \u001b[0;36mxs\u001b[0;34m(self, key, axis, level, drop_level)\u001b[0m\n\u001b[1;32m   3762\u001b[0m                 \u001b[0mindex\u001b[0m\u001b[0;34m=\u001b[0m\u001b[0mself\u001b[0m\u001b[0;34m.\u001b[0m\u001b[0mcolumns\u001b[0m\u001b[0;34m,\u001b[0m\u001b[0;34m\u001b[0m\u001b[0;34m\u001b[0m\u001b[0m\n\u001b[1;32m   3763\u001b[0m                 \u001b[0mname\u001b[0m\u001b[0;34m=\u001b[0m\u001b[0mself\u001b[0m\u001b[0;34m.\u001b[0m\u001b[0mindex\u001b[0m\u001b[0;34m[\u001b[0m\u001b[0mloc\u001b[0m\u001b[0;34m]\u001b[0m\u001b[0;34m,\u001b[0m\u001b[0;34m\u001b[0m\u001b[0;34m\u001b[0m\u001b[0m\n\u001b[0;32m-> 3764\u001b[0;31m                 \u001b[0mdtype\u001b[0m\u001b[0;34m=\u001b[0m\u001b[0mnew_values\u001b[0m\u001b[0;34m.\u001b[0m\u001b[0mdtype\u001b[0m\u001b[0;34m,\u001b[0m\u001b[0;34m\u001b[0m\u001b[0;34m\u001b[0m\u001b[0m\n\u001b[0m\u001b[1;32m   3765\u001b[0m             )\n\u001b[1;32m   3766\u001b[0m \u001b[0;34m\u001b[0m\u001b[0m\n",
      "\u001b[0;32m~/anaconda3/lib/python3.6/site-packages/pandas/core/series.py\u001b[0m in \u001b[0;36m__init__\u001b[0;34m(self, data, index, dtype, name, copy, fastpath)\u001b[0m\n\u001b[1;32m    309\u001b[0m                     \u001b[0mdata\u001b[0m \u001b[0;34m=\u001b[0m \u001b[0mdata\u001b[0m\u001b[0;34m.\u001b[0m\u001b[0mcopy\u001b[0m\u001b[0;34m(\u001b[0m\u001b[0;34m)\u001b[0m\u001b[0;34m\u001b[0m\u001b[0;34m\u001b[0m\u001b[0m\n\u001b[1;32m    310\u001b[0m             \u001b[0;32melse\u001b[0m\u001b[0;34m:\u001b[0m\u001b[0;34m\u001b[0m\u001b[0;34m\u001b[0m\u001b[0m\n\u001b[0;32m--> 311\u001b[0;31m                 \u001b[0mdata\u001b[0m \u001b[0;34m=\u001b[0m \u001b[0msanitize_array\u001b[0m\u001b[0;34m(\u001b[0m\u001b[0mdata\u001b[0m\u001b[0;34m,\u001b[0m \u001b[0mindex\u001b[0m\u001b[0;34m,\u001b[0m \u001b[0mdtype\u001b[0m\u001b[0;34m,\u001b[0m \u001b[0mcopy\u001b[0m\u001b[0;34m,\u001b[0m \u001b[0mraise_cast_failure\u001b[0m\u001b[0;34m=\u001b[0m\u001b[0;32mTrue\u001b[0m\u001b[0;34m)\u001b[0m\u001b[0;34m\u001b[0m\u001b[0;34m\u001b[0m\u001b[0m\n\u001b[0m\u001b[1;32m    312\u001b[0m \u001b[0;34m\u001b[0m\u001b[0m\n\u001b[1;32m    313\u001b[0m                 \u001b[0mdata\u001b[0m \u001b[0;34m=\u001b[0m \u001b[0mSingleBlockManager\u001b[0m\u001b[0;34m(\u001b[0m\u001b[0mdata\u001b[0m\u001b[0;34m,\u001b[0m \u001b[0mindex\u001b[0m\u001b[0;34m,\u001b[0m \u001b[0mfastpath\u001b[0m\u001b[0;34m=\u001b[0m\u001b[0;32mTrue\u001b[0m\u001b[0;34m)\u001b[0m\u001b[0;34m\u001b[0m\u001b[0;34m\u001b[0m\u001b[0m\n",
      "\u001b[0;32m~/anaconda3/lib/python3.6/site-packages/pandas/core/internals/construction.py\u001b[0m in \u001b[0;36msanitize_array\u001b[0;34m(data, index, dtype, copy, raise_cast_failure)\u001b[0m\n\u001b[1;32m    662\u001b[0m         \u001b[0;32melse\u001b[0m\u001b[0;34m:\u001b[0m\u001b[0;34m\u001b[0m\u001b[0;34m\u001b[0m\u001b[0m\n\u001b[1;32m    663\u001b[0m             \u001b[0;31m# we will try to copy be-definition here\u001b[0m\u001b[0;34m\u001b[0m\u001b[0;34m\u001b[0m\u001b[0;34m\u001b[0m\u001b[0m\n\u001b[0;32m--> 664\u001b[0;31m             \u001b[0msubarr\u001b[0m \u001b[0;34m=\u001b[0m \u001b[0m_try_cast\u001b[0m\u001b[0;34m(\u001b[0m\u001b[0mdata\u001b[0m\u001b[0;34m,\u001b[0m \u001b[0mdtype\u001b[0m\u001b[0;34m,\u001b[0m \u001b[0mcopy\u001b[0m\u001b[0;34m,\u001b[0m \u001b[0mraise_cast_failure\u001b[0m\u001b[0;34m)\u001b[0m\u001b[0;34m\u001b[0m\u001b[0;34m\u001b[0m\u001b[0m\n\u001b[0m\u001b[1;32m    665\u001b[0m \u001b[0;34m\u001b[0m\u001b[0m\n\u001b[1;32m    666\u001b[0m     \u001b[0;32melif\u001b[0m \u001b[0misinstance\u001b[0m\u001b[0;34m(\u001b[0m\u001b[0mdata\u001b[0m\u001b[0;34m,\u001b[0m \u001b[0mExtensionArray\u001b[0m\u001b[0;34m)\u001b[0m\u001b[0;34m:\u001b[0m\u001b[0;34m\u001b[0m\u001b[0;34m\u001b[0m\u001b[0m\n",
      "\u001b[0;32m~/anaconda3/lib/python3.6/site-packages/pandas/core/internals/construction.py\u001b[0m in \u001b[0;36m_try_cast\u001b[0;34m(arr, dtype, copy, raise_cast_failure)\u001b[0m\n\u001b[1;32m    785\u001b[0m         \u001b[0;31m# Take care in creating object arrays (but iterators are not\u001b[0m\u001b[0;34m\u001b[0m\u001b[0;34m\u001b[0m\u001b[0;34m\u001b[0m\u001b[0m\n\u001b[1;32m    786\u001b[0m         \u001b[0;31m# supported):\u001b[0m\u001b[0;34m\u001b[0m\u001b[0;34m\u001b[0m\u001b[0;34m\u001b[0m\u001b[0m\n\u001b[0;32m--> 787\u001b[0;31m         if is_object_dtype(dtype) and (\n\u001b[0m\u001b[1;32m    788\u001b[0m             \u001b[0mis_list_like\u001b[0m\u001b[0;34m(\u001b[0m\u001b[0msubarr\u001b[0m\u001b[0;34m)\u001b[0m\u001b[0;34m\u001b[0m\u001b[0;34m\u001b[0m\u001b[0m\n\u001b[1;32m    789\u001b[0m             \u001b[0;32mand\u001b[0m \u001b[0;32mnot\u001b[0m \u001b[0;34m(\u001b[0m\u001b[0mis_iterator\u001b[0m\u001b[0;34m(\u001b[0m\u001b[0msubarr\u001b[0m\u001b[0;34m)\u001b[0m \u001b[0;32mor\u001b[0m \u001b[0misinstance\u001b[0m\u001b[0;34m(\u001b[0m\u001b[0msubarr\u001b[0m\u001b[0;34m,\u001b[0m \u001b[0mnp\u001b[0m\u001b[0;34m.\u001b[0m\u001b[0mndarray\u001b[0m\u001b[0;34m)\u001b[0m\u001b[0;34m)\u001b[0m\u001b[0;34m\u001b[0m\u001b[0;34m\u001b[0m\u001b[0m\n",
      "\u001b[0;32m~/anaconda3/lib/python3.6/site-packages/pandas/core/dtypes/common.py\u001b[0m in \u001b[0;36mis_object_dtype\u001b[0;34m(arr_or_dtype)\u001b[0m\n\u001b[1;32m    250\u001b[0m     \u001b[0;32mFalse\u001b[0m\u001b[0;34m\u001b[0m\u001b[0;34m\u001b[0m\u001b[0m\n\u001b[1;32m    251\u001b[0m     \"\"\"\n\u001b[0;32m--> 252\u001b[0;31m     \u001b[0;32mreturn\u001b[0m \u001b[0m_is_dtype_type\u001b[0m\u001b[0;34m(\u001b[0m\u001b[0marr_or_dtype\u001b[0m\u001b[0;34m,\u001b[0m \u001b[0mclasses\u001b[0m\u001b[0;34m(\u001b[0m\u001b[0mnp\u001b[0m\u001b[0;34m.\u001b[0m\u001b[0mobject_\u001b[0m\u001b[0;34m)\u001b[0m\u001b[0;34m)\u001b[0m\u001b[0;34m\u001b[0m\u001b[0;34m\u001b[0m\u001b[0m\n\u001b[0m\u001b[1;32m    253\u001b[0m \u001b[0;34m\u001b[0m\u001b[0m\n\u001b[1;32m    254\u001b[0m \u001b[0;34m\u001b[0m\u001b[0m\n",
      "\u001b[0;31mKeyboardInterrupt\u001b[0m: "
     ]
    }
   ],
   "source": [
    "csv_df['DepartureCity'], csv_df['DepartureCountry'] = \\\n",
    "zip(*csv_df['DepartureAirport'].map(extract_city_country))"
   ]
  },
  {
   "cell_type": "code",
   "execution_count": null,
   "metadata": {},
   "outputs": [],
   "source": [
    "csv_df['ArrivalCity'], csv_df['ArrivalCountry'] = \\\n",
    "zip(*csv_df['ArrivalAirport'].map(extract_city_country))"
   ]
  },
  {
   "cell_type": "code",
   "execution_count": null,
   "metadata": {},
   "outputs": [],
   "source": [
    "csv_df['DepartureCity'] = csv_df['DepartureCity'].apply(lambda x: x.lower())\n",
    "csv_df['DepartureCountry'] = csv_df['DepartureCountry'].apply(lambda x: x.lower())\n",
    "csv_df['ArrivalCity'] = csv_df['ArrivalCity'].apply(lambda x: x.lower())\n",
    "csv_df['ArrivalCountry'] = csv_df['ArrivalCountry'].apply(lambda x: x.lower())"
   ]
  },
  {
   "cell_type": "markdown",
   "metadata": {},
   "source": [
    "## Airline Name"
   ]
  },
  {
   "cell_type": "code",
   "execution_count": 28,
   "metadata": {},
   "outputs": [],
   "source": [
    "airline_names = {\n",
    "    'SU': 'aeroflot',\n",
    "    'OK': 'chech airlines',\n",
    "    'KE': 'korean air',\n",
    "    'UX': 'air europa',\n",
    "    'CZ': 'china southern airlines',\n",
    "    'AF': 'air france',\n",
    "    'KL': 'klm',\n",
    "    'VN': 'vietnam airlines',\n",
    "    'RO': 'tarom',\n",
    "    'AZ': 'alitalia',\n",
    "    'CI': 'china airlines',\n",
    "    'MF': 'xiamen air',\n",
    "    'ME': 'middle east airlines',\n",
    "    'MU': 'china eastern airlines',\n",
    "    'AR': 'argentinas',\n",
    "    'GA': 'garudas indonesia',\n",
    "    'DL': 'delta airlines',\n",
    "    'KQ': 'kenya airways',\n",
    "    'SV': 'saudi arabian airlines',\n",
    "    'AM': 'aeromexico'\n",
    "}\n",
    "\n",
    "def convert_airline_name(name, airline_names=airline_names):\n",
    "    return airline_names.get(name[:2], np.nan)"
   ]
  },
  {
   "cell_type": "code",
   "execution_count": 29,
   "metadata": {},
   "outputs": [],
   "source": [
    "csv_df['AirlineName'] = csv_df['FlightNumber'].map(convert_airline_name)"
   ]
  },
  {
   "cell_type": "code",
   "execution_count": 31,
   "metadata": {},
   "outputs": [],
   "source": [
    "csv_df.to_csv('../ready_dataframes/boarding_data_fix.csv')"
   ]
  },
  {
   "cell_type": "code",
   "execution_count": 65,
   "metadata": {},
   "outputs": [],
   "source": [
    "# csv_df = pd.read_csv('../ready_dataframes/boarding_data_fix.csv', index_col=0)"
   ]
  },
  {
   "cell_type": "markdown",
   "metadata": {},
   "source": [
    "# Make MultiIndex"
   ]
  },
  {
   "cell_type": "markdown",
   "metadata": {},
   "source": [
    "Excel"
   ]
  },
  {
   "cell_type": "code",
   "execution_count": 66,
   "metadata": {},
   "outputs": [],
   "source": [
    "excel_df.drop(['FirstName', 'LastName'], axis=1, inplace=True)"
   ]
  },
  {
   "cell_type": "code",
   "execution_count": 67,
   "metadata": {},
   "outputs": [],
   "source": [
    "excel_df_multi = excel_df.set_index(['Name', 'FlightNumber', 'Date']).sort_index()"
   ]
  },
  {
   "cell_type": "markdown",
   "metadata": {},
   "source": [
    "CSV"
   ]
  },
  {
   "cell_type": "code",
   "execution_count": 68,
   "metadata": {},
   "outputs": [],
   "source": [
    "csv_df['Gender'] = csv_df['Gender'].map(lambda x: 'M' if x == 'male' else 'F')"
   ]
  },
  {
   "cell_type": "code",
   "execution_count": 69,
   "metadata": {},
   "outputs": [],
   "source": [
    "csv_df.drop(['FirstName', 'SecondName', 'LastName', 'TicketNumber', 'Baggage', 'CodeShare', 'BookingCode'], \n",
    "            axis=1, inplace=True)"
   ]
  },
  {
   "cell_type": "code",
   "execution_count": 70,
   "metadata": {},
   "outputs": [],
   "source": [
    "csv_df_multi = csv_df.set_index(['Name', 'FlightNumber', 'Date']).sort_index()"
   ]
  },
  {
   "cell_type": "markdown",
   "metadata": {},
   "source": [
    "# Repeated index"
   ]
  },
  {
   "cell_type": "code",
   "execution_count": 71,
   "metadata": {},
   "outputs": [],
   "source": [
    "repeat_index = csv_df_multi.index & excel_df_multi.index"
   ]
  },
  {
   "cell_type": "code",
   "execution_count": 72,
   "metadata": {},
   "outputs": [],
   "source": [
    "csv_uniq = csv_df_multi.drop(repeat_index, axis=0)"
   ]
  },
  {
   "cell_type": "code",
   "execution_count": 73,
   "metadata": {},
   "outputs": [],
   "source": [
    "full_concat = pd.concat((excel_df_multi, csv_uniq)).sort_index()"
   ]
  },
  {
   "cell_type": "markdown",
   "metadata": {},
   "source": [
    "Store for future"
   ]
  },
  {
   "cell_type": "code",
   "execution_count": 74,
   "metadata": {},
   "outputs": [],
   "source": [
    "full_concat.to_csv('../ready_dataframes/excel_with_csv.csv')"
   ]
  },
  {
   "cell_type": "code",
   "execution_count": 75,
   "metadata": {},
   "outputs": [],
   "source": [
    "full_concat_reset_index = full_concat.reset_index()"
   ]
  },
  {
   "cell_type": "code",
   "execution_count": 76,
   "metadata": {},
   "outputs": [],
   "source": [
    "full_concat_reset_index = pd.read_csv('../ready_dataframes/excel_with_csv.csv')"
   ]
  },
  {
   "cell_type": "code",
   "execution_count": 31,
   "metadata": {},
   "outputs": [],
   "source": [
    "def agg_birtdates(x):\n",
    "    list_birthdates = list(set([date for date in x if date is not np.nan]))\n",
    "    if list_birthdates:\n",
    "        return list_birthdates.pop()\n",
    "    return np.nan"
   ]
  },
  {
   "cell_type": "code",
   "execution_count": 32,
   "metadata": {},
   "outputs": [],
   "source": [
    "birth_dates = full_concat.reset_index().groupby('Name')['BirthDate'].agg(agg_birtdates)"
   ]
  },
  {
   "cell_type": "code",
   "execution_count": 33,
   "metadata": {},
   "outputs": [],
   "source": [
    "with open('../utility_dataframes/birth_dates.pkl', 'wb') as f:\n",
    "    pickle.dump(birth_dates, f)"
   ]
  },
  {
   "cell_type": "code",
   "execution_count": 77,
   "metadata": {},
   "outputs": [],
   "source": [
    "full_concat_reset_index['BirthDate'] = full_concat_reset_index['Name'].map(lambda x: birth_dates.get(x, np.nan))"
   ]
  },
  {
   "cell_type": "code",
   "execution_count": null,
   "metadata": {},
   "outputs": [],
   "source": []
  },
  {
   "cell_type": "code",
   "execution_count": null,
   "metadata": {},
   "outputs": [],
   "source": []
  },
  {
   "cell_type": "code",
   "execution_count": 35,
   "metadata": {},
   "outputs": [],
   "source": [
    "documents = full_concat_reset_index.groupby('Name')['Document'].agg(agg_birtdates)"
   ]
  },
  {
   "cell_type": "code",
   "execution_count": 36,
   "metadata": {},
   "outputs": [],
   "source": [
    "with open('../utility_dataframes/documents.pkl', 'wb') as f:\n",
    "    pickle.dump(documents, f)"
   ]
  },
  {
   "cell_type": "code",
   "execution_count": 78,
   "metadata": {},
   "outputs": [],
   "source": [
    "full_concat_reset_index['Document'] = full_concat_reset_index['Name'].map(lambda x: documents.get(x, np.nan))"
   ]
  },
  {
   "cell_type": "code",
   "execution_count": 38,
   "metadata": {},
   "outputs": [],
   "source": [
    "genders = full_concat_reset_index.groupby('Name')['Gender'].agg(agg_birtdates)"
   ]
  },
  {
   "cell_type": "code",
   "execution_count": 39,
   "metadata": {},
   "outputs": [],
   "source": [
    "with open('../utility_dataframes/genders.pkl', 'wb') as f:\n",
    "    pickle.dump(genders, f)"
   ]
  },
  {
   "cell_type": "code",
   "execution_count": 40,
   "metadata": {},
   "outputs": [],
   "source": [
    "def split_name(name):\n",
    "    return tuple(name.split(' '))"
   ]
  },
  {
   "cell_type": "code",
   "execution_count": 79,
   "metadata": {},
   "outputs": [],
   "source": [
    "full_concat_reset_index['FirstName'], full_concat_reset_index['LastName'] = \\\n",
    "zip(*full_concat_reset_index['Name'].map(split_name))"
   ]
  },
  {
   "cell_type": "code",
   "execution_count": 42,
   "metadata": {},
   "outputs": [],
   "source": [
    "def delete_soft_sign(name):\n",
    "    pos = name.find(\"'\")\n",
    "    if pos == -1:\n",
    "        return name\n",
    "    return name[:pos] + name[pos+1:]"
   ]
  },
  {
   "cell_type": "code",
   "execution_count": 80,
   "metadata": {},
   "outputs": [],
   "source": [
    "def replace_chars(name):\n",
    "    pos_x = name.find('x')\n",
    "    if pos_x != -1:\n",
    "        name = name[:pos_x] + 'ks' + name[pos_x+1:]\n",
    "    \n",
    "    pos_ia = name.find('ia')\n",
    "    if pos_ia != -1:\n",
    "        name = name[:pos_ia] + 'ya' + name[pos_ia+2:]\n",
    "    \n",
    "    pos_iu = name.find('iu')\n",
    "    if pos_iu != -1:\n",
    "        name = name[:pos_iu] + 'yu' + name[pos_iu+2:]\n",
    "    \n",
    "    pos_yi = name.find('yi')\n",
    "    if pos_yi != -1:\n",
    "        name = name[:pos_yi] + 'yy' + name[pos_yi+2:]\n",
    "        \n",
    "    pos_tc = name.find('tc')\n",
    "    if pos_tc != -1:\n",
    "        name = name[:pos_tc] + 'ts' + name[pos_tc+2:]\n",
    "        \n",
    "    pos_io = name.find('io')\n",
    "    if pos_io != -1:\n",
    "        name = name[:pos_io] + 'yo' + name[pos_io+2:]\n",
    "        \n",
    "    pos_ii = name.find('ii')\n",
    "    if pos_ii != -1:\n",
    "        name = name[:pos_ii] + 'iy' + name[pos_ii+2:]\n",
    "        \n",
    "    pos_ja = name.find('ja')\n",
    "    if pos_ja != -1:\n",
    "        name = name[:pos_ja] + 'ya' + name[pos_ja+2:]\n",
    "        \n",
    "    pos_ij = name.find('ij')\n",
    "    if pos_ij != -1:\n",
    "        name = name[:pos_ij] + 'iy' + name[pos_ij+2:]\n",
    "        \n",
    "    pos_ju = name.find('ju')\n",
    "    if pos_ju != -1:\n",
    "        name = name[:pos_ju] + 'yu' + name[pos_ju+2:]\n",
    "        \n",
    "    return name"
   ]
  },
  {
   "cell_type": "code",
   "execution_count": 81,
   "metadata": {},
   "outputs": [],
   "source": [
    "full_concat_reset_index['LastName'] = full_concat_reset_index['LastName'].map(delete_soft_sign)"
   ]
  },
  {
   "cell_type": "code",
   "execution_count": 82,
   "metadata": {},
   "outputs": [],
   "source": [
    "full_concat_reset_index['LastName'] = full_concat_reset_index['LastName'].map(replace_chars)"
   ]
  },
  {
   "cell_type": "code",
   "execution_count": 83,
   "metadata": {},
   "outputs": [],
   "source": [
    "full_concat_reset_index['FirstName'] = full_concat_reset_index['FirstName'].map(delete_soft_sign)\n",
    "full_concat_reset_index['FirstName'] = full_concat_reset_index['FirstName'].map(replace_chars)"
   ]
  },
  {
   "cell_type": "code",
   "execution_count": 84,
   "metadata": {},
   "outputs": [],
   "source": [
    "full_concat_reset_index['Name'] = full_concat_reset_index['FirstName'] + ' ' + full_concat_reset_index['LastName'] "
   ]
  },
  {
   "cell_type": "code",
   "execution_count": 85,
   "metadata": {},
   "outputs": [],
   "source": [
    "full_concat = full_concat_reset_index.set_index(['Name', 'FlightNumber', 'Date']).sort_index()"
   ]
  },
  {
   "cell_type": "code",
   "execution_count": 86,
   "metadata": {},
   "outputs": [
    {
     "data": {
      "text/html": [
       "<div>\n",
       "<style scoped>\n",
       "    .dataframe tbody tr th:only-of-type {\n",
       "        vertical-align: middle;\n",
       "    }\n",
       "\n",
       "    .dataframe tbody tr th {\n",
       "        vertical-align: top;\n",
       "    }\n",
       "\n",
       "    .dataframe thead th {\n",
       "        text-align: right;\n",
       "    }\n",
       "</style>\n",
       "<table border=\"1\" class=\"dataframe\">\n",
       "  <thead>\n",
       "    <tr style=\"text-align: right;\">\n",
       "      <th></th>\n",
       "      <th></th>\n",
       "      <th></th>\n",
       "      <th>AirlineName</th>\n",
       "      <th>ArrivalAirport</th>\n",
       "      <th>ArrivalCity</th>\n",
       "      <th>ArrivalCountry</th>\n",
       "      <th>BirthDate</th>\n",
       "      <th>BonusProgrammNumber</th>\n",
       "      <th>DepartureAirport</th>\n",
       "      <th>DepartureCity</th>\n",
       "      <th>DepartureCountry</th>\n",
       "      <th>Document</th>\n",
       "      <th>Gender</th>\n",
       "      <th>LoyaltyStatus</th>\n",
       "      <th>Time</th>\n",
       "      <th>FirstName</th>\n",
       "      <th>LastName</th>\n",
       "    </tr>\n",
       "    <tr>\n",
       "      <th>Name</th>\n",
       "      <th>FlightNumber</th>\n",
       "      <th>Date</th>\n",
       "      <th></th>\n",
       "      <th></th>\n",
       "      <th></th>\n",
       "      <th></th>\n",
       "      <th></th>\n",
       "      <th></th>\n",
       "      <th></th>\n",
       "      <th></th>\n",
       "      <th></th>\n",
       "      <th></th>\n",
       "      <th></th>\n",
       "      <th></th>\n",
       "      <th></th>\n",
       "      <th></th>\n",
       "      <th></th>\n",
       "    </tr>\n",
       "  </thead>\n",
       "  <tbody>\n",
       "    <tr>\n",
       "      <td rowspan=\"3\" valign=\"top\">adel afanasev</td>\n",
       "      <td>CZ3383</td>\n",
       "      <td>2017-03-11</td>\n",
       "      <td>china southern airlines</td>\n",
       "      <td>NNY</td>\n",
       "      <td>nanyang</td>\n",
       "      <td>china</td>\n",
       "      <td>NaN</td>\n",
       "      <td>NaN</td>\n",
       "      <td>CAN</td>\n",
       "      <td>guangzhou</td>\n",
       "      <td>china</td>\n",
       "      <td>NaN</td>\n",
       "      <td>M</td>\n",
       "      <td>NaN</td>\n",
       "      <td>15:40</td>\n",
       "      <td>adel</td>\n",
       "      <td>afanasev</td>\n",
       "    </tr>\n",
       "    <tr>\n",
       "      <td>CZ6478</td>\n",
       "      <td>2017-07-21</td>\n",
       "      <td>china southern airlines</td>\n",
       "      <td>CGO</td>\n",
       "      <td>zhengzhou</td>\n",
       "      <td>china</td>\n",
       "      <td>1976-01-16</td>\n",
       "      <td>NaN</td>\n",
       "      <td>SZX</td>\n",
       "      <td>shenzhen</td>\n",
       "      <td>china</td>\n",
       "      <td>4731 565740</td>\n",
       "      <td>M</td>\n",
       "      <td>NaN</td>\n",
       "      <td>16:35</td>\n",
       "      <td>adel</td>\n",
       "      <td>afanasev</td>\n",
       "    </tr>\n",
       "    <tr>\n",
       "      <td>SU1457</td>\n",
       "      <td>2017-01-21</td>\n",
       "      <td>aeroflot</td>\n",
       "      <td>SVO</td>\n",
       "      <td>zelenograd</td>\n",
       "      <td>russia</td>\n",
       "      <td>1976-01-16</td>\n",
       "      <td>NaN</td>\n",
       "      <td>KEJ</td>\n",
       "      <td>kemerovo</td>\n",
       "      <td>russia</td>\n",
       "      <td>4731 565740</td>\n",
       "      <td>M</td>\n",
       "      <td>NaN</td>\n",
       "      <td>20:55</td>\n",
       "      <td>adel</td>\n",
       "      <td>afanasev</td>\n",
       "    </tr>\n",
       "    <tr>\n",
       "      <td rowspan=\"2\" valign=\"top\">adel ageev</td>\n",
       "      <td>CZ3982</td>\n",
       "      <td>2017-11-02</td>\n",
       "      <td>china southern airlines</td>\n",
       "      <td>CGO</td>\n",
       "      <td>zhengzhou</td>\n",
       "      <td>china</td>\n",
       "      <td>1972-05-23</td>\n",
       "      <td>NaN</td>\n",
       "      <td>SYX</td>\n",
       "      <td>sanya</td>\n",
       "      <td>china</td>\n",
       "      <td>1703 815697</td>\n",
       "      <td>M</td>\n",
       "      <td>NaN</td>\n",
       "      <td>20:00</td>\n",
       "      <td>adel</td>\n",
       "      <td>ageev</td>\n",
       "    </tr>\n",
       "    <tr>\n",
       "      <td>DL1508</td>\n",
       "      <td>2017-11-27</td>\n",
       "      <td>delta airlines</td>\n",
       "      <td>ATL</td>\n",
       "      <td>atlanta ga</td>\n",
       "      <td>united states</td>\n",
       "      <td>1972-05-23</td>\n",
       "      <td>NaN</td>\n",
       "      <td>SRQ</td>\n",
       "      <td>sarasota/bradenton fl</td>\n",
       "      <td>united states</td>\n",
       "      <td>1703 815697</td>\n",
       "      <td>M</td>\n",
       "      <td>NaN</td>\n",
       "      <td>06:50</td>\n",
       "      <td>adel</td>\n",
       "      <td>ageev</td>\n",
       "    </tr>\n",
       "    <tr>\n",
       "      <td>...</td>\n",
       "      <td>...</td>\n",
       "      <td>...</td>\n",
       "      <td>...</td>\n",
       "      <td>...</td>\n",
       "      <td>...</td>\n",
       "      <td>...</td>\n",
       "      <td>...</td>\n",
       "      <td>...</td>\n",
       "      <td>...</td>\n",
       "      <td>...</td>\n",
       "      <td>...</td>\n",
       "      <td>...</td>\n",
       "      <td>...</td>\n",
       "      <td>...</td>\n",
       "      <td>...</td>\n",
       "      <td>...</td>\n",
       "      <td>...</td>\n",
       "    </tr>\n",
       "    <tr>\n",
       "      <td rowspan=\"5\" valign=\"top\">zlata zykova</td>\n",
       "      <td>AF4921</td>\n",
       "      <td>2017-03-04</td>\n",
       "      <td>air france</td>\n",
       "      <td>CDG</td>\n",
       "      <td>paris</td>\n",
       "      <td>france</td>\n",
       "      <td>NaN</td>\n",
       "      <td>NaN</td>\n",
       "      <td>SVO</td>\n",
       "      <td>moscow</td>\n",
       "      <td>russia</td>\n",
       "      <td>NaN</td>\n",
       "      <td>F</td>\n",
       "      <td>NaN</td>\n",
       "      <td>13:50</td>\n",
       "      <td>zlata</td>\n",
       "      <td>zykova</td>\n",
       "    </tr>\n",
       "    <tr>\n",
       "      <td>CZ3547</td>\n",
       "      <td>2017-03-30</td>\n",
       "      <td>china southern airlines</td>\n",
       "      <td>SHA</td>\n",
       "      <td>shanghai</td>\n",
       "      <td>china</td>\n",
       "      <td>NaN</td>\n",
       "      <td>NaN</td>\n",
       "      <td>CAN</td>\n",
       "      <td>guangzhou</td>\n",
       "      <td>china</td>\n",
       "      <td>NaN</td>\n",
       "      <td>F</td>\n",
       "      <td>NaN</td>\n",
       "      <td>19:00</td>\n",
       "      <td>zlata</td>\n",
       "      <td>zykova</td>\n",
       "    </tr>\n",
       "    <tr>\n",
       "      <td>DL3901</td>\n",
       "      <td>2017-12-01</td>\n",
       "      <td>delta airlines</td>\n",
       "      <td>VLD</td>\n",
       "      <td>valdosta ga</td>\n",
       "      <td>united states</td>\n",
       "      <td>NaN</td>\n",
       "      <td>NaN</td>\n",
       "      <td>ATL</td>\n",
       "      <td>atlanta ga</td>\n",
       "      <td>united states</td>\n",
       "      <td>NaN</td>\n",
       "      <td>F</td>\n",
       "      <td>NaN</td>\n",
       "      <td>14:57</td>\n",
       "      <td>zlata</td>\n",
       "      <td>zykova</td>\n",
       "    </tr>\n",
       "    <tr>\n",
       "      <td>DL7424</td>\n",
       "      <td>2017-12-12</td>\n",
       "      <td>delta airlines</td>\n",
       "      <td>DTW</td>\n",
       "      <td>detroit mi</td>\n",
       "      <td>united states</td>\n",
       "      <td>NaN</td>\n",
       "      <td>NaN</td>\n",
       "      <td>FWA</td>\n",
       "      <td>fort wayne in</td>\n",
       "      <td>united states</td>\n",
       "      <td>NaN</td>\n",
       "      <td>F</td>\n",
       "      <td>NaN</td>\n",
       "      <td>10:15</td>\n",
       "      <td>zlata</td>\n",
       "      <td>zykova</td>\n",
       "    </tr>\n",
       "    <tr>\n",
       "      <td>MU6118</td>\n",
       "      <td>2017-05-06</td>\n",
       "      <td>china eastern airlines</td>\n",
       "      <td>NGB</td>\n",
       "      <td>ningbo</td>\n",
       "      <td>china</td>\n",
       "      <td>NaN</td>\n",
       "      <td>NaN</td>\n",
       "      <td>HYN</td>\n",
       "      <td>taizhou</td>\n",
       "      <td>china</td>\n",
       "      <td>NaN</td>\n",
       "      <td>F</td>\n",
       "      <td>NaN</td>\n",
       "      <td>11:07</td>\n",
       "      <td>zlata</td>\n",
       "      <td>zykova</td>\n",
       "    </tr>\n",
       "  </tbody>\n",
       "</table>\n",
       "<p>611846 rows × 15 columns</p>\n",
       "</div>"
      ],
      "text/plain": [
       "                                                   AirlineName ArrivalAirport  \\\n",
       "Name          FlightNumber Date                                                 \n",
       "adel afanasev CZ3383       2017-03-11  china southern airlines            NNY   \n",
       "              CZ6478       2017-07-21  china southern airlines            CGO   \n",
       "              SU1457       2017-01-21                 aeroflot            SVO   \n",
       "adel ageev    CZ3982       2017-11-02  china southern airlines            CGO   \n",
       "              DL1508       2017-11-27           delta airlines            ATL   \n",
       "...                                                        ...            ...   \n",
       "zlata zykova  AF4921       2017-03-04               air france            CDG   \n",
       "              CZ3547       2017-03-30  china southern airlines            SHA   \n",
       "              DL3901       2017-12-01           delta airlines            VLD   \n",
       "              DL7424       2017-12-12           delta airlines            DTW   \n",
       "              MU6118       2017-05-06   china eastern airlines            NGB   \n",
       "\n",
       "                                       ArrivalCity ArrivalCountry   BirthDate  \\\n",
       "Name          FlightNumber Date                                                 \n",
       "adel afanasev CZ3383       2017-03-11      nanyang          china         NaN   \n",
       "              CZ6478       2017-07-21    zhengzhou          china  1976-01-16   \n",
       "              SU1457       2017-01-21   zelenograd         russia  1976-01-16   \n",
       "adel ageev    CZ3982       2017-11-02    zhengzhou          china  1972-05-23   \n",
       "              DL1508       2017-11-27   atlanta ga  united states  1972-05-23   \n",
       "...                                            ...            ...         ...   \n",
       "zlata zykova  AF4921       2017-03-04        paris         france         NaN   \n",
       "              CZ3547       2017-03-30     shanghai          china         NaN   \n",
       "              DL3901       2017-12-01  valdosta ga  united states         NaN   \n",
       "              DL7424       2017-12-12   detroit mi  united states         NaN   \n",
       "              MU6118       2017-05-06       ningbo          china         NaN   \n",
       "\n",
       "                                       BonusProgrammNumber DepartureAirport  \\\n",
       "Name          FlightNumber Date                                               \n",
       "adel afanasev CZ3383       2017-03-11                  NaN              CAN   \n",
       "              CZ6478       2017-07-21                  NaN              SZX   \n",
       "              SU1457       2017-01-21                  NaN              KEJ   \n",
       "adel ageev    CZ3982       2017-11-02                  NaN              SYX   \n",
       "              DL1508       2017-11-27                  NaN              SRQ   \n",
       "...                                                    ...              ...   \n",
       "zlata zykova  AF4921       2017-03-04                  NaN              SVO   \n",
       "              CZ3547       2017-03-30                  NaN              CAN   \n",
       "              DL3901       2017-12-01                  NaN              ATL   \n",
       "              DL7424       2017-12-12                  NaN              FWA   \n",
       "              MU6118       2017-05-06                  NaN              HYN   \n",
       "\n",
       "                                               DepartureCity DepartureCountry  \\\n",
       "Name          FlightNumber Date                                                 \n",
       "adel afanasev CZ3383       2017-03-11              guangzhou            china   \n",
       "              CZ6478       2017-07-21               shenzhen            china   \n",
       "              SU1457       2017-01-21               kemerovo           russia   \n",
       "adel ageev    CZ3982       2017-11-02                  sanya            china   \n",
       "              DL1508       2017-11-27  sarasota/bradenton fl    united states   \n",
       "...                                                      ...              ...   \n",
       "zlata zykova  AF4921       2017-03-04                 moscow           russia   \n",
       "              CZ3547       2017-03-30              guangzhou            china   \n",
       "              DL3901       2017-12-01             atlanta ga    united states   \n",
       "              DL7424       2017-12-12          fort wayne in    united states   \n",
       "              MU6118       2017-05-06                taizhou            china   \n",
       "\n",
       "                                          Document Gender  LoyaltyStatus  \\\n",
       "Name          FlightNumber Date                                            \n",
       "adel afanasev CZ3383       2017-03-11          NaN      M            NaN   \n",
       "              CZ6478       2017-07-21  4731 565740      M            NaN   \n",
       "              SU1457       2017-01-21  4731 565740      M            NaN   \n",
       "adel ageev    CZ3982       2017-11-02  1703 815697      M            NaN   \n",
       "              DL1508       2017-11-27  1703 815697      M            NaN   \n",
       "...                                            ...    ...            ...   \n",
       "zlata zykova  AF4921       2017-03-04          NaN      F            NaN   \n",
       "              CZ3547       2017-03-30          NaN      F            NaN   \n",
       "              DL3901       2017-12-01          NaN      F            NaN   \n",
       "              DL7424       2017-12-12          NaN      F            NaN   \n",
       "              MU6118       2017-05-06          NaN      F            NaN   \n",
       "\n",
       "                                        Time FirstName  LastName  \n",
       "Name          FlightNumber Date                                   \n",
       "adel afanasev CZ3383       2017-03-11  15:40      adel  afanasev  \n",
       "              CZ6478       2017-07-21  16:35      adel  afanasev  \n",
       "              SU1457       2017-01-21  20:55      adel  afanasev  \n",
       "adel ageev    CZ3982       2017-11-02  20:00      adel     ageev  \n",
       "              DL1508       2017-11-27  06:50      adel     ageev  \n",
       "...                                      ...       ...       ...  \n",
       "zlata zykova  AF4921       2017-03-04  13:50     zlata    zykova  \n",
       "              CZ3547       2017-03-30  19:00     zlata    zykova  \n",
       "              DL3901       2017-12-01  14:57     zlata    zykova  \n",
       "              DL7424       2017-12-12  10:15     zlata    zykova  \n",
       "              MU6118       2017-05-06  11:07     zlata    zykova  \n",
       "\n",
       "[611846 rows x 15 columns]"
      ]
     },
     "execution_count": 86,
     "metadata": {},
     "output_type": "execute_result"
    }
   ],
   "source": [
    "full_concat"
   ]
  },
  {
   "cell_type": "code",
   "execution_count": 87,
   "metadata": {},
   "outputs": [],
   "source": [
    "full_concat.to_csv('../ready_dataframes/excel_with_csv.csv')"
   ]
  },
  {
   "cell_type": "code",
   "execution_count": null,
   "metadata": {},
   "outputs": [],
   "source": []
  }
 ],
 "metadata": {
  "kernelspec": {
   "display_name": "Python 3",
   "language": "python",
   "name": "python3"
  },
  "language_info": {
   "codemirror_mode": {
    "name": "ipython",
    "version": 3
   },
   "file_extension": ".py",
   "mimetype": "text/x-python",
   "name": "python",
   "nbconvert_exporter": "python",
   "pygments_lexer": "ipython3",
   "version": "3.6.8"
  }
 },
 "nbformat": 4,
 "nbformat_minor": 2
}
